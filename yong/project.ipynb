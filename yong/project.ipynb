{
 "cells": [
  {
   "cell_type": "code",
   "execution_count": 1,
   "metadata": {},
   "outputs": [],
   "source": [
    "from dowhy import CausalModel\n",
    "import numpy as np\n",
    "import pandas as pd\n",
    "import seaborn as sns\n",
    "import matplotlib.pyplot as plt\n",
    "import datetime"
   ]
  },
  {
   "cell_type": "code",
   "execution_count": null,
   "metadata": {},
   "outputs": [],
   "source": [
    "plt.rcParams[\"font.family\"] = \"서울한강 장체L\"\n",
    "river = pd.read_csv(\"data/all.csv\")\n",
    "print(river.shape)\n",
    "river.head()"
   ]
  },
  {
   "cell_type": "code",
   "execution_count": null,
   "metadata": {},
   "outputs": [],
   "source": [
    "def month_to_season(x):\n",
    "    if x in [3,4,5]:\n",
    "        y = \"spring\"\n",
    "    elif x in [6,7,8]:\n",
    "        y = \"summer\"\n",
    "    elif x in [9,10,11]:\n",
    "        y = \"autumn\"\n",
    "    else:\n",
    "        y = \"winter\"\n",
    "    return (y)\n",
    "\n",
    "def weather(x):\n",
    "    if   x==1:\n",
    "        y = \"clear\"\n",
    "    elif x==2:\n",
    "        y = \"cloudy\"\n",
    "    elif x==3:\n",
    "        y = \"light_rainy\"\n",
    "    else:\n",
    "        y = \"heavy_rainy\"\n",
    "    return (y)"
   ]
  },
  {
   "cell_type": "code",
   "execution_count": null,
   "metadata": {},
   "outputs": [],
   "source": [
    "# 1. 원핫 인코딩 생성\n",
    "land_dummies = pd.get_dummies(river['부동산더미'])\n",
    "restore_dummies= pd.get_dummies(river['복원하천더미'])\n",
    "river = pd.concat([river,land_dummies,restore_dummies],axis=1)\n",
    "\n",
    "# 2. 변수 삭제\n",
    "river = river.drop([\"casual\",\"registered\"],axis=1)"
   ]
  },
  {
   "cell_type": "code",
   "execution_count": null,
   "metadata": {},
   "outputs": [],
   "source": [
    "\n",
    "fig,((ax1,ax2),(ax3,ax4)) = plt.subplots(2,2)\n",
    "fig.set_size_inches(10,10)\n",
    "sns.barplot(x=\"관측소\",y=\"미세먼지\", data = river,ax=ax1)\n",
    "sns.barplot(x=\"관측소\",y=\"교통량\", data = river,ax=ax2)\n",
    "sns.barplot(x=\"관측소\",y=\"토지\", data = river,ax=ax3)\n",
    "sns.barplot(x=\"관측소\",y=\"녹지\", data = river,ax=ax4)\n",
    "ax1.set(title = \"관측소별 미세먼지\")\n",
    "ax2.set(title = \"관측소별 교통량\")\n",
    "ax3.set(title = \"관측소별 토지집중도\")\n",
    "ax4.set(title = \"관측소별 녹지면적\")"
   ]
  },
  {
   "cell_type": "code",
   "execution_count": null,
   "metadata": {},
   "outputs": [],
   "source": [
    "fig,((ax1,ax2),(ax3,ax4)) = plt.subplots(2,2)\n",
    "fig.set_size_inches(10,10)\n",
    "\n",
    "sns.boxplot(x=\"관측소\",y=\"미세먼지\", data = river,ax=ax1)\n",
    "sns.boxplot(x=\"관측소\",y=\"교통량\", data = river,ax=ax2)\n",
    "sns.boxplot(x=\"관측소\",y=\"토지\", data = river,ax=ax3)\n",
    "sns.boxplot(x=\"관측소\",y=\"녹지\", data = river,ax=ax4)\n",
    "ax1.set(title = \"관측소별 미세먼지\")\n",
    "ax2.set(title = \"관측소별 교통량\")\n",
    "ax3.set(title = \"관측소별 토지집중도\")\n",
    "ax4.set(title = \"관측소별 녹지면적\")"
   ]
  },
  {
   "cell_type": "code",
   "execution_count": null,
   "metadata": {},
   "outputs": [],
   "source": [
    "fig, (ax1,ax2,ax3,ax4,ax5) = plt.subplots(nrows=5)\n",
    "fig.set_size_inches(18,25)\n",
    "\n",
    "sns.pointplot(data=river,x=\"관측소\",y=\"미세먼지\",ax=ax1)\n",
    "sns.pointplot(data=river,x=\"관측소\",y=\"미세먼지\",hue=\"교통량\",ax=ax2)\n",
    "sns.pointplot(data=river,x=\"관측소\",y=\"미세먼지\",hue=\"토지이용\",ax=ax3)\n",
    "sns.pointplot(data=river,x=\"관측소\",y=\"미세먼지\",hue=\"녹지면적\",ax=ax4)\n",
    "sns.pointplot(data=river,x=\"관측소\",y=\"미세먼지\",hue=\"복원하천유무\",ax=ax5)"
   ]
  },
  {
   "cell_type": "code",
   "execution_count": null,
   "metadata": {},
   "outputs": [],
   "source": []
  },
  {
   "cell_type": "code",
   "execution_count": null,
   "metadata": {},
   "outputs": [],
   "source": [
    "river[\"is_restore\"]=river[\"restore\"].apply(lambda x: True if x == 1 else False)\n",
    "river[\"is_ready\"]=river[\"복원하천면적\"].apply(lambda x: True if x > 0 else False)\n",
    "river[\"is_토지이용\"]=river[\"토지종\"].apply(lambda x: True if (x==\"상업지구\") or (x==\"준공업지구\")  else False)\n",
    "river[\"is_2017\"] = river[\"year\"].apply(lambda x: True if x==2017 else False)"
   ]
  },
  {
   "cell_type": "code",
   "execution_count": null,
   "metadata": {},
   "outputs": [],
   "source": [
    "restore_effect = CausalModel(\n",
    "    data=river,\n",
    "    treatment = \"is_restore\",\n",
    "    outcome = \"미세먼지\",\n",
    "    common_causes = \"교통량+토지+녹지면적+시간더미\".split(\"+\"))\n",
    "\n",
    "restore_identified = restore_effect.identify_effect()\n",
    "\n",
    "restore_matching = restore_effect.estimate_effect(restore_identified,method_name = \"backdoor.propensity_score_matching\")\n",
    "restore_stratify = restore_effect.estimate_effect(restore_identified,method_name = \"backdoor.propensity_score_stratification\")\n",
    "\n",
    "print(\"Causal Estimate of Matching: {}\".format(restore_matching.value))\n",
    "print(\"Causal Estimate of Stratification: {}\".format(restore_stratify.value))"
   ]
  },
  {
   "cell_type": "code",
   "execution_count": null,
   "metadata": {},
   "outputs": [],
   "source": [
    "#모디파이어 고려(트리트먼트와 결과에 동시에 영향을 주는 요소)\n",
    "mass_effect = CausalModel(\n",
    "    data=river,\n",
    "    treatment = \"복원하천면적\",\n",
    "    outcome   = \"미세먼지\",\n",
    "    common_causes = \"교통량+녹지면적+토지이용+시간더미\".split(\"+\"),\n",
    "    effect_modifiers = \"하천폭\".split(\"+\"))\n",
    "\n",
    "mass_identified = mass_effect.identify_effect()\n",
    "\n",
    "mass_matching = mass_effect.estimate_effect(mass_identified,method_name = \"backdoor.propensity_score_matching\")\n",
    "mass_stratify = mass_effect.estimate_effect(mass_identified,method_name = \"backdoor.propensity_score_stratification\")\n",
    "\n",
    "print(\"Causal Estimate of Matching: {}\".format(mass_matching.value))\n",
    "print(\"Causal Estimate of Stratification: {}\".format(mass_stratify.value))"
   ]
  },
  {
   "cell_type": "code",
   "execution_count": null,
   "metadata": {},
   "outputs": [],
   "source": [
    "# 1. 무관한 교란변수 생성\n",
    "restore_random    = restore_effect.refute_estimate(restore_identified, restore_matching,method_name=\"random_common_cause\")\n",
    "# 2. 가짜 처리 생성\n",
    "restore_placebo   = restore_effect.refute_estimate(restore_identified, restore_matching,method_name=\"placebo_treatment_refuter\", placebo_type=\"permute\")\n",
    "# 3. 일부만 추출(서브셋 변경할것)\n",
    "restore_subset    = restore_effect.refute_estimate(restore_identified, restore_matching,method_name=\"data_subset_refuter\", subset_fraction=0.8)\n",
    "\n",
    "restore_random_str    = restore_effect.refute_estimate(restore_identified, restore_stratify,method_name=\"random_common_cause\")\n",
    "restore_placebo_str   = restore_effect.refute_estimate(restore_identified, restore_stratify,method_name=\"placebo_treatment_refuter\", placebo_type=\"permute\")\n",
    "restore_subset_str    = restore_effect.refute_estimate(restore_identified, restore_stratify,method_name=\"data_subset_refuter\", subset_fraction=0.8)"
   ]
  },
  {
   "cell_type": "code",
   "execution_count": null,
   "metadata": {},
   "outputs": [],
   "source": [
    "print(restore_random)\n",
    "print(restore_placebo)\n",
    "print(restore_subset)\n",
    "\n",
    "print(restore_random_str)\n",
    "print(restore_placebo_str)\n",
    "print(restore_subset_str)"
   ]
  },
  {
   "cell_type": "code",
   "execution_count": null,
   "metadata": {},
   "outputs": [],
   "source": []
  },
  {
   "cell_type": "code",
   "execution_count": null,
   "metadata": {},
   "outputs": [],
   "source": []
  },
  {
   "cell_type": "code",
   "execution_count": null,
   "metadata": {},
   "outputs": [],
   "source": []
  },
  {
   "cell_type": "code",
   "execution_count": null,
   "metadata": {},
   "outputs": [],
   "source": []
  },
  {
   "cell_type": "code",
   "execution_count": null,
   "metadata": {},
   "outputs": [],
   "source": []
  },
  {
   "cell_type": "code",
   "execution_count": null,
   "metadata": {},
   "outputs": [],
   "source": []
  }
 ],
 "metadata": {
  "kernelspec": {
   "display_name": "pydatavenv",
   "language": "python",
   "name": "pydatavenv"
  },
  "language_info": {
   "codemirror_mode": {
    "name": "ipython",
    "version": 3
   },
   "file_extension": ".py",
   "mimetype": "text/x-python",
   "name": "python",
   "nbconvert_exporter": "python",
   "pygments_lexer": "ipython3",
   "version": "3.8.8"
  }
 },
 "nbformat": 4,
 "nbformat_minor": 4
}
