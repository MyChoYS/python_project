{
 "cells": [
  {
   "cell_type": "code",
   "execution_count": null,
   "metadata": {},
   "outputs": [],
   "source": [
    "import folium\n",
    "import pandas as pd\n",
    "\n",
    "# 서울 지도 만들기\n",
    "seoul_map = folium.Map(location=[37.55,126.98], zoom_start=12)\n",
    "\n",
    "# 관측소 리스트를 데이터프레임 변환\n",
    "df = pd.read_excel('./project/data/미세먼지 측정소별 교통량.xlsx')\n",
    "df.columns = ['측정소명', '주소', 'lat', 'lon']\n",
    "print(df)\n",
    "\n",
    "# 관측소 위치정보를 Marker로 표시\n",
    "for name, lat, lng in zip(df.측정소명, df.lat, df.lon):\n",
    "    folium.Marker([lat, lng], popup=name).add_to(seoul_map)\n",
    "display(seoul_map)"
   ]
  },
  {
   "cell_type": "code",
   "execution_count": 137,
   "metadata": {},
   "outputs": [
    {
     "name": "stdout",
     "output_type": "stream",
     "text": [
      "\n",
      ">>> PublicDataReader Version : 2021.4.12\n",
      "\n",
      "- Author : Wooil Jeong\n",
      "- E-mail : wooil@kakao.com\n",
      "- Github : https://github.com/WooilJeong/PublicDataReader\n",
      "- Blog : https://wooiljeong.github.io\n",
      "\n"
     ]
    }
   ],
   "source": [
    "import PublicDataReader as pdr\n",
    "print(pdr.__version__)"
   ]
  },
  {
   "cell_type": "code",
   "execution_count": 138,
   "metadata": {},
   "outputs": [
    {
     "name": "stdout",
     "output_type": "stream",
     "text": [
      ">> Open API Services initialized!\n"
     ]
    }
   ],
   "source": [
    "# 공공 데이터 포털에서 발급 받은 서비스 인증키\n",
    "serviceKey=\"%2FsSRvcxOLRcNINcUjuJ5YGCfoQn6PkiCu%2BfwOs89KrpRt1ZEepe0J69HscCIXXMdVZetcI3RTqMOx2ym7pQ7uQ%3D%3D\"\n",
    "\n",
    "# 국토교통부 실거래가 Open API 인스턴스 생성\n",
    "semas = pdr.StoreInfo(serviceKey)"
   ]
  },
  {
   "cell_type": "code",
   "execution_count": 140,
   "metadata": {},
   "outputs": [
    {
     "name": "stdout",
     "output_type": "stream",
     "text": [
      "   indsLclsCd indsLclsNm      stdrDt\n",
      "0           A       1차산업  2015-12-17\n",
      "1           N   관광/여가/오락  2015-12-17\n",
      "2           G      교통/운송  2015-12-17\n",
      "3           V    국가기관/단체  2015-12-17\n",
      "4           K         금융  2015-12-17\n",
      "5           I   기술/건축/환경  2015-12-17\n",
      "6           C   도매/유통/무역  2015-12-17\n",
      "7           M   문화/예술/종교  2015-12-17\n",
      "8           T         복지  2015-12-17\n",
      "9           L        부동산  2015-12-17\n",
      "10          F      생활서비스  2015-12-17\n",
      "11          D         소매  2015-12-17\n",
      "12          O         숙박  2015-12-17\n",
      "13          P        스포츠  2015-12-17\n",
      "14          U     언론/미디어  2015-12-17\n",
      "15          9     업종분류불능  2015-12-17\n",
      "16          Q         음식  2015-12-17\n",
      "17          S         의료  2015-12-17\n",
      "18          E   전기/가스/수도  2015-12-17\n",
      "19          H    전자/정보통신  2015-12-17\n",
      "20          B         제조  2015-12-17\n",
      "21          R      학문/교육  2015-12-17\n"
     ]
    }
   ],
   "source": [
    "#대분류\n",
    "df = semas.largeUpjongList()\n",
    "print(df)"
   ]
  },
  {
   "cell_type": "code",
   "execution_count": null,
   "metadata": {},
   "outputs": [],
   "source": [
    "##소상공인 상가업소 정보서비스 OPEN API##\n",
    "#함수 만들기\n",
    "from urllib.request import Request, urlopen\n",
    "from urllib.parse import urlencode, quote_plus\n",
    "import pandas as pd\n",
    "import json\n",
    "\n",
    "def baro_api(skey, res_id, encode) :\n",
    "\n",
    "    stype = 'json'\n",
    "    url = 'http://apis.data.go.kr/B553077/api/open/sdsc/baroApi'\n",
    "    params = f'?ServiceKey={skey}&type={stype}&resId={res_id}&' + encode\n",
    "    query = url + params\n",
    "    print(query)\n",
    "\n",
    "    request = Request(query)\n",
    "    request.get_method = lambda: 'GET'\n",
    "    response_body = urlopen(request).read()\n",
    "    #print(response_body)\n",
    "\n",
    "    response_dict = json.loads(response_body.decode('utf-8'))\n",
    "    items = response_dict['body']['items']\n",
    "\n",
    "    df = pd.DataFrame(items)\n",
    "    return df\n"
   ]
  },
  {
   "cell_type": "code",
   "execution_count": null,
   "metadata": {},
   "outputs": [],
   "source": [
    "#예시\n",
    "skey = \"%2FsSRvcxOLRcNINcUjuJ5YGCfoQn6PkiCu%2BfwOs89KrpRt1ZEepe0J69HscCIXXMdVZetcI3RTqMOx2ym7pQ7uQ%3D%3D\"\n",
    "res_id = 'storezone'\n",
    "encode = urlencode({ quote_plus('key') : '573'})\n",
    "baro_api(skey, res_id, encode)"
   ]
  },
  {
   "cell_type": "code",
   "execution_count": 153,
   "metadata": {},
   "outputs": [
    {
     "name": "stdout",
     "output_type": "stream",
     "text": [
      "http://apis.data.go.kr/B553077/api/open/sdsc/baroApi?ServiceKey=%2FsSRvcxOLRcNINcUjuJ5YGCfoQn6PkiCu%2BfwOs89KrpRt1ZEepe0J69HscCIXXMdVZetcI3RTqMOx2ym7pQ7uQ%3D%3D&type=json&resId=upjong&catId=large\n",
      "   indsLclsCd indsLclsNm      stdrDt\n",
      "0           A       1차산업  2015-12-17\n",
      "1           N   관광/여가/오락  2015-12-17\n",
      "2           G      교통/운송  2015-12-17\n",
      "3           V    국가기관/단체  2015-12-17\n",
      "4           K         금융  2015-12-17\n",
      "5           I   기술/건축/환경  2015-12-17\n",
      "6           C   도매/유통/무역  2015-12-17\n",
      "7           M   문화/예술/종교  2015-12-17\n",
      "8           T         복지  2015-12-17\n",
      "9           L        부동산  2015-12-17\n",
      "10          F      생활서비스  2015-12-17\n",
      "11          D         소매  2015-12-17\n",
      "12          O         숙박  2015-12-17\n",
      "13          P        스포츠  2015-12-17\n",
      "14          U     언론/미디어  2015-12-17\n",
      "15          9     업종분류불능  2015-12-17\n",
      "16          Q         음식  2015-12-17\n",
      "17          S         의료  2015-12-17\n",
      "18          E   전기/가스/수도  2015-12-17\n",
      "19          H    전자/정보통신  2015-12-17\n",
      "20          B         제조  2015-12-17\n",
      "21          R      학문/교육  2015-12-17\n"
     ]
    }
   ],
   "source": [
    "#업종 대분류\n",
    "skey = \"%2FsSRvcxOLRcNINcUjuJ5YGCfoQn6PkiCu%2BfwOs89KrpRt1ZEepe0J69HscCIXXMdVZetcI3RTqMOx2ym7pQ7uQ%3D%3D\"\n",
    "res_id = 'upjong'\n",
    "encode = urlencode({ quote_plus('catId') : 'large'})\n",
    "\n",
    "large_upjong = baro_api(skey, res_id, encode)\n",
    "print(large_upjong)\n",
    "\n",
    "#http://apis.data.go.kr/B553077/api/open/sdsc/baroApi?resId=upjong&catId=large&ServiceKey=서비스인증키"
   ]
  },
  {
   "cell_type": "code",
   "execution_count": 154,
   "metadata": {},
   "outputs": [
    {
     "name": "stdout",
     "output_type": "stream",
     "text": [
      "http://apis.data.go.kr/B553077/api/open/sdsc/baroApi?ServiceKey=%2FsSRvcxOLRcNINcUjuJ5YGCfoQn6PkiCu%2BfwOs89KrpRt1ZEepe0J69HscCIXXMdVZetcI3RTqMOx2ym7pQ7uQ%3D%3D&type=json&resId=upjong&catId=middle&indsLclsCd=A\n",
      "http://apis.data.go.kr/B553077/api/open/sdsc/baroApi?ServiceKey=%2FsSRvcxOLRcNINcUjuJ5YGCfoQn6PkiCu%2BfwOs89KrpRt1ZEepe0J69HscCIXXMdVZetcI3RTqMOx2ym7pQ7uQ%3D%3D&type=json&resId=upjong&catId=middle&indsLclsCd=N\n",
      "http://apis.data.go.kr/B553077/api/open/sdsc/baroApi?ServiceKey=%2FsSRvcxOLRcNINcUjuJ5YGCfoQn6PkiCu%2BfwOs89KrpRt1ZEepe0J69HscCIXXMdVZetcI3RTqMOx2ym7pQ7uQ%3D%3D&type=json&resId=upjong&catId=middle&indsLclsCd=G\n",
      "http://apis.data.go.kr/B553077/api/open/sdsc/baroApi?ServiceKey=%2FsSRvcxOLRcNINcUjuJ5YGCfoQn6PkiCu%2BfwOs89KrpRt1ZEepe0J69HscCIXXMdVZetcI3RTqMOx2ym7pQ7uQ%3D%3D&type=json&resId=upjong&catId=middle&indsLclsCd=V\n",
      "http://apis.data.go.kr/B553077/api/open/sdsc/baroApi?ServiceKey=%2FsSRvcxOLRcNINcUjuJ5YGCfoQn6PkiCu%2BfwOs89KrpRt1ZEepe0J69HscCIXXMdVZetcI3RTqMOx2ym7pQ7uQ%3D%3D&type=json&resId=upjong&catId=middle&indsLclsCd=K\n",
      "http://apis.data.go.kr/B553077/api/open/sdsc/baroApi?ServiceKey=%2FsSRvcxOLRcNINcUjuJ5YGCfoQn6PkiCu%2BfwOs89KrpRt1ZEepe0J69HscCIXXMdVZetcI3RTqMOx2ym7pQ7uQ%3D%3D&type=json&resId=upjong&catId=middle&indsLclsCd=I\n",
      "http://apis.data.go.kr/B553077/api/open/sdsc/baroApi?ServiceKey=%2FsSRvcxOLRcNINcUjuJ5YGCfoQn6PkiCu%2BfwOs89KrpRt1ZEepe0J69HscCIXXMdVZetcI3RTqMOx2ym7pQ7uQ%3D%3D&type=json&resId=upjong&catId=middle&indsLclsCd=C\n",
      "http://apis.data.go.kr/B553077/api/open/sdsc/baroApi?ServiceKey=%2FsSRvcxOLRcNINcUjuJ5YGCfoQn6PkiCu%2BfwOs89KrpRt1ZEepe0J69HscCIXXMdVZetcI3RTqMOx2ym7pQ7uQ%3D%3D&type=json&resId=upjong&catId=middle&indsLclsCd=M\n",
      "http://apis.data.go.kr/B553077/api/open/sdsc/baroApi?ServiceKey=%2FsSRvcxOLRcNINcUjuJ5YGCfoQn6PkiCu%2BfwOs89KrpRt1ZEepe0J69HscCIXXMdVZetcI3RTqMOx2ym7pQ7uQ%3D%3D&type=json&resId=upjong&catId=middle&indsLclsCd=T\n",
      "http://apis.data.go.kr/B553077/api/open/sdsc/baroApi?ServiceKey=%2FsSRvcxOLRcNINcUjuJ5YGCfoQn6PkiCu%2BfwOs89KrpRt1ZEepe0J69HscCIXXMdVZetcI3RTqMOx2ym7pQ7uQ%3D%3D&type=json&resId=upjong&catId=middle&indsLclsCd=L\n",
      "http://apis.data.go.kr/B553077/api/open/sdsc/baroApi?ServiceKey=%2FsSRvcxOLRcNINcUjuJ5YGCfoQn6PkiCu%2BfwOs89KrpRt1ZEepe0J69HscCIXXMdVZetcI3RTqMOx2ym7pQ7uQ%3D%3D&type=json&resId=upjong&catId=middle&indsLclsCd=F\n",
      "http://apis.data.go.kr/B553077/api/open/sdsc/baroApi?ServiceKey=%2FsSRvcxOLRcNINcUjuJ5YGCfoQn6PkiCu%2BfwOs89KrpRt1ZEepe0J69HscCIXXMdVZetcI3RTqMOx2ym7pQ7uQ%3D%3D&type=json&resId=upjong&catId=middle&indsLclsCd=D\n",
      "http://apis.data.go.kr/B553077/api/open/sdsc/baroApi?ServiceKey=%2FsSRvcxOLRcNINcUjuJ5YGCfoQn6PkiCu%2BfwOs89KrpRt1ZEepe0J69HscCIXXMdVZetcI3RTqMOx2ym7pQ7uQ%3D%3D&type=json&resId=upjong&catId=middle&indsLclsCd=O\n",
      "http://apis.data.go.kr/B553077/api/open/sdsc/baroApi?ServiceKey=%2FsSRvcxOLRcNINcUjuJ5YGCfoQn6PkiCu%2BfwOs89KrpRt1ZEepe0J69HscCIXXMdVZetcI3RTqMOx2ym7pQ7uQ%3D%3D&type=json&resId=upjong&catId=middle&indsLclsCd=P\n",
      "http://apis.data.go.kr/B553077/api/open/sdsc/baroApi?ServiceKey=%2FsSRvcxOLRcNINcUjuJ5YGCfoQn6PkiCu%2BfwOs89KrpRt1ZEepe0J69HscCIXXMdVZetcI3RTqMOx2ym7pQ7uQ%3D%3D&type=json&resId=upjong&catId=middle&indsLclsCd=U\n",
      "http://apis.data.go.kr/B553077/api/open/sdsc/baroApi?ServiceKey=%2FsSRvcxOLRcNINcUjuJ5YGCfoQn6PkiCu%2BfwOs89KrpRt1ZEepe0J69HscCIXXMdVZetcI3RTqMOx2ym7pQ7uQ%3D%3D&type=json&resId=upjong&catId=middle&indsLclsCd=9\n",
      "http://apis.data.go.kr/B553077/api/open/sdsc/baroApi?ServiceKey=%2FsSRvcxOLRcNINcUjuJ5YGCfoQn6PkiCu%2BfwOs89KrpRt1ZEepe0J69HscCIXXMdVZetcI3RTqMOx2ym7pQ7uQ%3D%3D&type=json&resId=upjong&catId=middle&indsLclsCd=Q\n",
      "http://apis.data.go.kr/B553077/api/open/sdsc/baroApi?ServiceKey=%2FsSRvcxOLRcNINcUjuJ5YGCfoQn6PkiCu%2BfwOs89KrpRt1ZEepe0J69HscCIXXMdVZetcI3RTqMOx2ym7pQ7uQ%3D%3D&type=json&resId=upjong&catId=middle&indsLclsCd=S\n",
      "http://apis.data.go.kr/B553077/api/open/sdsc/baroApi?ServiceKey=%2FsSRvcxOLRcNINcUjuJ5YGCfoQn6PkiCu%2BfwOs89KrpRt1ZEepe0J69HscCIXXMdVZetcI3RTqMOx2ym7pQ7uQ%3D%3D&type=json&resId=upjong&catId=middle&indsLclsCd=E\n",
      "http://apis.data.go.kr/B553077/api/open/sdsc/baroApi?ServiceKey=%2FsSRvcxOLRcNINcUjuJ5YGCfoQn6PkiCu%2BfwOs89KrpRt1ZEepe0J69HscCIXXMdVZetcI3RTqMOx2ym7pQ7uQ%3D%3D&type=json&resId=upjong&catId=middle&indsLclsCd=H\n",
      "http://apis.data.go.kr/B553077/api/open/sdsc/baroApi?ServiceKey=%2FsSRvcxOLRcNINcUjuJ5YGCfoQn6PkiCu%2BfwOs89KrpRt1ZEepe0J69HscCIXXMdVZetcI3RTqMOx2ym7pQ7uQ%3D%3D&type=json&resId=upjong&catId=middle&indsLclsCd=B\n",
      "http://apis.data.go.kr/B553077/api/open/sdsc/baroApi?ServiceKey=%2FsSRvcxOLRcNINcUjuJ5YGCfoQn6PkiCu%2BfwOs89KrpRt1ZEepe0J69HscCIXXMdVZetcI3RTqMOx2ym7pQ7uQ%3D%3D&type=json&resId=upjong&catId=middle&indsLclsCd=R\n"
     ]
    }
   ],
   "source": [
    "#업종 중분류\n",
    "skey = \"%2FsSRvcxOLRcNINcUjuJ5YGCfoQn6PkiCu%2BfwOs89KrpRt1ZEepe0J69HscCIXXMdVZetcI3RTqMOx2ym7pQ7uQ%3D%3D\"\n",
    "res_id = 'upjong'\n",
    "\n",
    "upjong_df = pd.DataFrame()\n",
    "for code in large_upjong['indsLclsCd'] :\n",
    "    encode = urlencode({ quote_plus('catId') : 'middle', quote_plus('indsLclsCd') : code  })\n",
    "\n",
    "    df = baro_api(skey, res_id, encode)\n",
    "    upjong_df = upjong_df.append(df)   \n",
    "\n",
    "#http://apis.data.go.kr/B553077/api/open/sdsc/baroApi?resId=upjong&catId=middle&indsLclsCd=Q&ServiceKey=서비스인증키"
   ]
  },
  {
   "cell_type": "code",
   "execution_count": 155,
   "metadata": {},
   "outputs": [],
   "source": [
    "#엑셀 파일로 저장\n",
    "upjong_df.to_excel('./project/data/업종_중분류.xlsx', index=False, header=True, encoding='utf-8')"
   ]
  },
  {
   "cell_type": "code",
   "execution_count": null,
   "metadata": {},
   "outputs": [],
   "source": [
    "# 반경 500m 내 상가 정리 \n",
    "station = pd.read_excel('./project/data/미세먼지 측정소별 교통량.xlsx')\n",
    "station.columns = ['측정소명', '주소', 'lat', 'lon']\n",
    "station.drop(40, inplace=True) #관악산 삭제(주변 상가 X)\n",
    "\n",
    "shop_df = pd.DataFrame()\n",
    "for name, lat, lon in zip(station.측정소명, station.lat, station.lon):\n",
    "    \n",
    "    skey = \"%2FsSRvcxOLRcNINcUjuJ5YGCfoQn6PkiCu%2BfwOs89KrpRt1ZEepe0J69HscCIXXMdVZetcI3RTqMOx2ym7pQ7uQ%3D%3D\"\n",
    "    res_id = 'store'\n",
    "\n",
    "    lon = lon\n",
    "    lat = lat\n",
    "    encode1 = urlencode({ quote_plus('catId') : 'radius', quote_plus('radius') : '500',\n",
    "                         quote_plus('cx') : lon, quote_plus('cy') : lat,  quote_plus('numOfRows') : '1000' })\n",
    "    encode2 = urlencode({ quote_plus('catId') : 'radius', quote_plus('radius') : '500',\n",
    "                         quote_plus('cx') : lon, quote_plus('cy') : lat,  \n",
    "                         quote_plus('numOfRows') : '1000', quote_plus('pageNo') : '2'}) #1000개 넘을 시 \n",
    "    encode3 = urlencode({ quote_plus('catId') : 'radius', quote_plus('radius') : '500',\n",
    "                         quote_plus('cx') : lon, quote_plus('cy') : lat,  \n",
    "                         quote_plus('numOfRows') : '1000', quote_plus('pageNo') : '3'}) #2000개 넘을 시 \n",
    "\n",
    "\n",
    "    df1 = baro_api(skey, res_id, encode1)\n",
    "    df2 = baro_api(skey, res_id, encode2)\n",
    "    df3 = baro_api(skey, res_id, encode3)\n",
    "        \n",
    "    df = pd.concat([df1,df2,df3]) \n",
    "    \n",
    "    #각 대분류 당 몇개인지 \n",
    "    df = df['indsLclsNm'].value_counts().to_frame()\n",
    "    df.loc['total'] = df['indsLclsNm'].sum()\n",
    "    df = df.T\n",
    "    \n",
    "    df.reset_index(inplace=True, drop=True)\n",
    "    name = name\n",
    "    df['측정소명'] = name\n",
    "    \n",
    "    df = pd.merge(station, df)\n",
    "    shop_df = shop_df.append(df)\n",
    "    print(shop_df)"
   ]
  },
  {
   "cell_type": "code",
   "execution_count": 111,
   "metadata": {},
   "outputs": [],
   "source": [
    "#엑셀 파일로 저장 \n",
    "shop_df.fillna(0, inplace=True)\n",
    "shop_df.to_excel('./project/data/station_상권_1.xlsx', index=False, header=True, encoding='utf-8')"
   ]
  },
  {
   "cell_type": "code",
   "execution_count": 136,
   "metadata": {},
   "outputs": [
    {
     "data": {
      "text/html": [
       "<div>\n",
       "<style scoped>\n",
       "    .dataframe tbody tr th:only-of-type {\n",
       "        vertical-align: middle;\n",
       "    }\n",
       "\n",
       "    .dataframe tbody tr th {\n",
       "        vertical-align: top;\n",
       "    }\n",
       "\n",
       "    .dataframe thead th {\n",
       "        text-align: right;\n",
       "    }\n",
       "</style>\n",
       "<table border=\"1\" class=\"dataframe\">\n",
       "  <thead>\n",
       "    <tr style=\"text-align: right;\">\n",
       "      <th></th>\n",
       "      <th>측정소명</th>\n",
       "      <th>주소</th>\n",
       "      <th>lat</th>\n",
       "      <th>lon</th>\n",
       "      <th>음식</th>\n",
       "      <th>소매</th>\n",
       "      <th>생활서비스</th>\n",
       "      <th>숙박</th>\n",
       "      <th>학문/교육</th>\n",
       "      <th>부동산</th>\n",
       "      <th>관광/여가/오락</th>\n",
       "      <th>스포츠</th>\n",
       "      <th>total</th>\n",
       "    </tr>\n",
       "  </thead>\n",
       "  <tbody>\n",
       "    <tr>\n",
       "      <th>0</th>\n",
       "      <td>중구(서소문동)</td>\n",
       "      <td>서울 중구 덕수궁길 15 시청서소문별관 3동</td>\n",
       "      <td>37.564433</td>\n",
       "      <td>126.975584</td>\n",
       "      <td>684</td>\n",
       "      <td>659</td>\n",
       "      <td>143</td>\n",
       "      <td>31</td>\n",
       "      <td>22</td>\n",
       "      <td>20</td>\n",
       "      <td>10</td>\n",
       "      <td>2</td>\n",
       "      <td>1571</td>\n",
       "    </tr>\n",
       "    <tr>\n",
       "      <th>1</th>\n",
       "      <td>종로구(효제동)</td>\n",
       "      <td>서울 종로구 종로35가길 19 종로5,6가 동 주민센터</td>\n",
       "      <td>37.572203</td>\n",
       "      <td>127.004954</td>\n",
       "      <td>502</td>\n",
       "      <td>2235</td>\n",
       "      <td>114</td>\n",
       "      <td>24</td>\n",
       "      <td>29</td>\n",
       "      <td>27</td>\n",
       "      <td>26</td>\n",
       "      <td>0</td>\n",
       "      <td>2957</td>\n",
       "    </tr>\n",
       "    <tr>\n",
       "      <th>2</th>\n",
       "      <td>중랑구(면목동,면목본동)</td>\n",
       "      <td>서울 중랑구 용마산로 369 건강가정지원센터</td>\n",
       "      <td>37.585072</td>\n",
       "      <td>127.093921</td>\n",
       "      <td>260</td>\n",
       "      <td>152</td>\n",
       "      <td>126</td>\n",
       "      <td>0</td>\n",
       "      <td>48</td>\n",
       "      <td>27</td>\n",
       "      <td>19</td>\n",
       "      <td>1</td>\n",
       "      <td>633</td>\n",
       "    </tr>\n",
       "    <tr>\n",
       "      <th>3</th>\n",
       "      <td>동대문구(용두동)</td>\n",
       "      <td>서울 동대문구 천호대로13길 43 용두초등학교</td>\n",
       "      <td>37.576213</td>\n",
       "      <td>127.029008</td>\n",
       "      <td>265</td>\n",
       "      <td>205</td>\n",
       "      <td>74</td>\n",
       "      <td>8</td>\n",
       "      <td>32</td>\n",
       "      <td>34</td>\n",
       "      <td>20</td>\n",
       "      <td>1</td>\n",
       "      <td>639</td>\n",
       "    </tr>\n",
       "    <tr>\n",
       "      <th>4</th>\n",
       "      <td>은평구(불광동)</td>\n",
       "      <td>서울 은평구 진흥로 215 (한국환경산업기술원 온실동2층 )</td>\n",
       "      <td>37.610241</td>\n",
       "      <td>126.935020</td>\n",
       "      <td>156</td>\n",
       "      <td>87</td>\n",
       "      <td>55</td>\n",
       "      <td>6</td>\n",
       "      <td>33</td>\n",
       "      <td>34</td>\n",
       "      <td>12</td>\n",
       "      <td>1</td>\n",
       "      <td>384</td>\n",
       "    </tr>\n",
       "  </tbody>\n",
       "</table>\n",
       "</div>"
      ],
      "text/plain": [
       "            측정소명                                 주소        lat         lon  \\\n",
       "0       중구(서소문동)           서울 중구 덕수궁길 15 시청서소문별관 3동  37.564433  126.975584   \n",
       "1       종로구(효제동)     서울 종로구 종로35가길 19 종로5,6가 동 주민센터  37.572203  127.004954   \n",
       "2  중랑구(면목동,면목본동)           서울 중랑구 용마산로 369 건강가정지원센터  37.585072  127.093921   \n",
       "3      동대문구(용두동)          서울 동대문구 천호대로13길 43 용두초등학교  37.576213  127.029008   \n",
       "4       은평구(불광동)  서울 은평구 진흥로 215 (한국환경산업기술원 온실동2층 )  37.610241  126.935020   \n",
       "\n",
       "    음식    소매  생활서비스  숙박  학문/교육  부동산  관광/여가/오락  스포츠  total  \n",
       "0  684   659    143  31     22   20        10    2   1571  \n",
       "1  502  2235    114  24     29   27        26    0   2957  \n",
       "2  260   152    126   0     48   27        19    1    633  \n",
       "3  265   205     74   8     32   34        20    1    639  \n",
       "4  156    87     55   6     33   34        12    1    384  "
      ]
     },
     "metadata": {},
     "output_type": "display_data"
    },
    {
     "data": {
      "text/plain": [
       "음식          43.539147\n",
       "소매          41.947804\n",
       "생활서비스        9.102482\n",
       "숙박           1.973265\n",
       "학문/교육        1.400382\n",
       "부동산          1.273074\n",
       "관광/여가/오락     0.636537\n",
       "Name: 0, dtype: object"
      ]
     },
     "execution_count": 136,
     "metadata": {},
     "output_type": "execute_result"
    }
   ],
   "source": [
    "##관측소 당 대분류별 퍼센트\n",
    "df = pd.read_excel('./project/data/station_상권_1.xlsx')\n",
    "\n",
    "display(df.head())\n",
    "\n",
    "df.loc[0][4:11].div(df.loc[0].total) * 100\n",
    "\n",
    "#for i in df.columns[4:11] :\n",
    "#    print(i)"
   ]
  }
 ],
 "metadata": {
  "kernelspec": {
   "display_name": "pydatavenv",
   "language": "python",
   "name": "pydatavenv"
  },
  "language_info": {
   "codemirror_mode": {
    "name": "ipython",
    "version": 3
   },
   "file_extension": ".py",
   "mimetype": "text/x-python",
   "name": "python",
   "nbconvert_exporter": "python",
   "pygments_lexer": "ipython3",
   "version": "3.8.8"
  }
 },
 "nbformat": 4,
 "nbformat_minor": 4
}
