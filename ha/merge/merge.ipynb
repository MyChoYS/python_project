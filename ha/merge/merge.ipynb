{
 "cells": [
  {
   "cell_type": "code",
   "execution_count": 1,
   "metadata": {},
   "outputs": [],
   "source": [
    "import pandas as pd"
   ]
  },
  {
   "cell_type": "code",
   "execution_count": 2,
   "metadata": {},
   "outputs": [],
   "source": [
    "traffic = pd.read_excel('../merge/미세먼지2015~(na처리).xlsx')\n",
    "\n",
    "green = pd.read_excel('../merge/미세먼지관측소 반경 녹지면적.xlsx')\n",
    "\n",
    "station2015 = pd.read_excel('../merge/station_상권(비율) 및 용도지역_2015.xlsx')\n",
    "station2016 = pd.read_excel('../merge/station_상권(비율) 및 용도지역_2016.xlsx')\n",
    "station2017 = pd.read_excel('../merge/station_상권(비율) 및 용도지역_2017.xlsx')\n",
    "station2018 = pd.read_excel('../merge/station_상권(비율) 및 용도지역_2018.xlsx')\n",
    "station2019 = pd.read_excel('../merge/station_상권(비율) 및 용도지역_2019.xlsx')\n",
    "station2020 = pd.read_excel('../merge/station_상권(비율) 및 용도지역_2020.xlsx')"
   ]
  },
  {
   "cell_type": "code",
   "execution_count": 3,
   "metadata": {},
   "outputs": [],
   "source": [
    "all = pd.concat([traffic, green, station2015, station2016, station2017, station2018, station2019, station2020], axis = 1)\n",
    "all.to_excel('../merge/all.xlsx')"
   ]
  }
 ],
 "metadata": {
  "kernelspec": {
   "display_name": "pydatavenv",
   "language": "python",
   "name": "pydatavenv"
  },
  "language_info": {
   "codemirror_mode": {
    "name": "ipython",
    "version": 3
   },
   "file_extension": ".py",
   "mimetype": "text/x-python",
   "name": "python",
   "nbconvert_exporter": "python",
   "pygments_lexer": "ipython3",
   "version": "3.8.8"
  }
 },
 "nbformat": 4,
 "nbformat_minor": 4
}
