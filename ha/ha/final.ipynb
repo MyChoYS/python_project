{
 "cells": [
  {
   "cell_type": "code",
   "execution_count": 9,
   "metadata": {},
   "outputs": [],
   "source": [
    "import pandas as pd\n",
    "f2015 = pd.read_excel('./data/output/2015년 지역_일별 미세먼지 평균량.xlsx')\n",
    "f2016 = pd.read_excel('./data/output/2016년 지역_일별 미세먼지 평균량.xlsx')\n",
    "f2017 = pd.read_excel('./data/output/2017년 지역_일별 미세먼지 평균량.xlsx')\n",
    "f2018 = pd.read_excel('./data/output/2018년 지역_일별 미세먼지 평균량.xlsx')\n",
    "f2019 = pd.read_excel('./data/output/2019년 지역_일별 미세먼지 평균량.xlsx')\n",
    "f2020 = pd.read_excel('./data/output/2020년 지역_일별 미세먼지 평균량.xlsx')\n",
    "\n",
    "final = pd.concat([f2015, f2016, f2017, f2018, f2019, f2020], axis = 0)\n",
    "final = final.fillna(0)\n",
    "final.to_excel('./data/output/[최종] 연도별 지역_일별 미세먼지 평균량.xlsx')"
   ]
  },
  {
   "cell_type": "code",
   "execution_count": 8,
   "metadata": {},
   "outputs": [],
   "source": [
    "#name = final.iloc[0]\n",
    "#type(name)\n",
    "#final = final.rename(columns = name)"
   ]
  },
  {
   "cell_type": "code",
   "execution_count": null,
   "metadata": {},
   "outputs": [],
   "source": []
  }
 ],
 "metadata": {
  "kernelspec": {
   "display_name": "pydatavenv",
   "language": "python",
   "name": "pydatavenv"
  },
  "language_info": {
   "codemirror_mode": {
    "name": "ipython",
    "version": 3
   },
   "file_extension": ".py",
   "mimetype": "text/x-python",
   "name": "python",
   "nbconvert_exporter": "python",
   "pygments_lexer": "ipython3",
   "version": "3.8.8"
  }
 },
 "nbformat": 4,
 "nbformat_minor": 4
}
